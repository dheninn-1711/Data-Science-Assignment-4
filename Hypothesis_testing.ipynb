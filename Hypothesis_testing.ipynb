{
  "nbformat": 4,
  "nbformat_minor": 0,
  "metadata": {
    "colab": {
      "provenance": []
    },
    "kernelspec": {
      "name": "python3",
      "display_name": "Python 3"
    },
    "language_info": {
      "name": "python"
    }
  },
  "cells": [
    {
      "cell_type": "code",
      "execution_count": 16,
      "metadata": {
        "id": "QspopPCBBntp"
      },
      "outputs": [],
      "source": [
        "# Import libraries\n",
        "import numpy as np\n",
        "import scipy.stats as stats"
      ]
    },
    {
      "cell_type": "markdown",
      "source": [
        "Hypotheses:\n",
        "\n",
        "Null Hypothesis (𝐻o): The mean cost is as predicted by the model.\n",
        "\n",
        "Alternative Hypothesis (𝐻a): The mean cost is greater than predicted by the model."
      ],
      "metadata": {
        "id": "T8e3k5zaXEH3"
      }
    },
    {
      "cell_type": "code",
      "source": [
        "# Given data\n",
        "sample_mean_cost = 3050  # ˉxˉ\n",
        "X_mean = 600  # Mean number of units produced\n",
        "X_std = 25  # Standard deviation of units produced\n",
        "sample_size = 25  # n\n",
        "alpha = 0.05  # Significance level"
      ],
      "metadata": {
        "id": "FDl5GniCRrnD"
      },
      "execution_count": 2,
      "outputs": []
    },
    {
      "cell_type": "code",
      "source": [
        "# Theoretical weekly cost model\n",
        "theoretical_mean_cost = 1000 + 5 * X_mean"
      ],
      "metadata": {
        "id": "vGMQ96UyRswH"
      },
      "execution_count": 3,
      "outputs": []
    },
    {
      "cell_type": "code",
      "source": [
        "# Standard deviation of the weekly operating cost\n",
        "cost_std_dev = 5 * X_std"
      ],
      "metadata": {
        "id": "a-qpsI49RvwJ"
      },
      "execution_count": 4,
      "outputs": []
    },
    {
      "cell_type": "markdown",
      "source": [
        "Calculating the sample mean to the theoretical mean while adjusting for the standard deviation and sample size."
      ],
      "metadata": {
        "id": "swiSKQd7XhHn"
      }
    },
    {
      "cell_type": "code",
      "source": [
        "# Calculate the test statistic\n",
        "test_statistic = (sample_mean_cost - theoretical_mean_cost) / (cost_std_dev / np.sqrt(sample_size))"
      ],
      "metadata": {
        "id": "aGZf7KYsR7dd"
      },
      "execution_count": 5,
      "outputs": []
    },
    {
      "cell_type": "markdown",
      "source": [
        "The critical value for a one-tailed test at α=0.05 ."
      ],
      "metadata": {
        "id": "3-d-znERWQN9"
      }
    },
    {
      "cell_type": "code",
      "source": [
        "# Determine the critical value from the Z-distribution for a one-tailed test\n",
        "critical_value = stats.norm.ppf(1 - alpha)\n",
        "# Print results\n",
        "print(f\"Theoretical Mean Weekly Cost: ${theoretical_mean_cost}\")\n",
        "print(f\"Standard Deviation of Weekly Operating Cost: ${cost_std_dev}\")\n",
        "print(\"Test Statistic:\",test_statistic)\n",
        "print(\"Critical Value:\",critical_value)"
      ],
      "metadata": {
        "colab": {
          "base_uri": "https://localhost:8080/"
        },
        "id": "r4lZHWo3R_C2",
        "outputId": "98d2eec7-7582-45c5-d7c6-825d7fd52680"
      },
      "execution_count": 14,
      "outputs": [
        {
          "output_type": "stream",
          "name": "stdout",
          "text": [
            "Theoretical Mean Weekly Cost: $4000\n",
            "Standard Deviation of Weekly Operating Cost: $125\n",
            "Test Statistic: -38.0\n",
            "Critical Value: 1.6448536269514722\n"
          ]
        }
      ]
    },
    {
      "cell_type": "code",
      "source": [
        "# Decision\n",
        "if test_statistic > critical_value:\n",
        "    decision = \"Reject the null hypothesis\"\n",
        "else:\n",
        "    decision = \"Fail to reject the null hypothesis\"\n",
        "print(\"Decision:\",decision)"
      ],
      "metadata": {
        "colab": {
          "base_uri": "https://localhost:8080/"
        },
        "id": "H2hdtS9CSF7C",
        "outputId": "3743cdd2-26e1-4c5e-a99c-0fd095e78d33"
      },
      "execution_count": 9,
      "outputs": [
        {
          "output_type": "stream",
          "name": "stdout",
          "text": [
            "Decision: Fail to reject the null hypothesis\n"
          ]
        }
      ]
    },
    {
      "cell_type": "code",
      "source": [
        "# Conclusion\n",
        "if decision == \"Reject the null hypothesis\":\n",
        "    conclusion = \"There is strong evidence to support the claim that the weekly operating costs are higher than the model suggests.\"\n",
        "else:\n",
        "    conclusion = \"There is not enough evidence to support the claim that the weekly operating costs are higher than the model suggests.\"\n",
        "\n",
        "print(\"Conclusion:\", conclusion)"
      ],
      "metadata": {
        "colab": {
          "base_uri": "https://localhost:8080/"
        },
        "id": "s2V2I652SJI0",
        "outputId": "cc116558-3cbb-4a39-f2b7-6daceece3f85"
      },
      "execution_count": 10,
      "outputs": [
        {
          "output_type": "stream",
          "name": "stdout",
          "text": [
            "Conclusion: There is not enough evidence to support the claim that the weekly operating costs are higher than the model suggests.\n"
          ]
        }
      ]
    },
    {
      "cell_type": "markdown",
      "source": [
        "Based on the decision, we conclude if there is significant evidence that the observed operating costs are higher than what the model suggests.\n"
      ],
      "metadata": {
        "id": "lESfZlhxWsz7"
      }
    }
  ]
}